{
  "nbformat": 4,
  "nbformat_minor": 0,
  "metadata": {
    "colab": {
      "provenance": [],
      "authorship_tag": "ABX9TyOSyTc+jqcI3BG2ZuSzIbmM",
      "include_colab_link": true
    },
    "kernelspec": {
      "name": "python3",
      "display_name": "Python 3"
    },
    "language_info": {
      "name": "python"
    }
  },
  "cells": [
    {
      "cell_type": "markdown",
      "metadata": {
        "id": "view-in-github",
        "colab_type": "text"
      },
      "source": [
        "<a href=\"https://colab.research.google.com/github/tech09876/machine_learning_algorithms_scratch/blob/main/KNN_Algorithm.ipynb\" target=\"_parent\"><img src=\"https://colab.research.google.com/assets/colab-badge.svg\" alt=\"Open In Colab\"/></a>"
      ]
    },
    {
      "cell_type": "markdown",
      "source": [
        "##IMPORTING THE DEPENDENCIES##\n"
      ],
      "metadata": {
        "id": "kAhCAzQTNgMW"
      }
    },
    {
      "cell_type": "code",
      "execution_count": 22,
      "metadata": {
        "id": "AdH9wdzH-TB7"
      },
      "outputs": [],
      "source": [
        "import numpy as np\n",
        "from collections import Counter\n",
        "import pandas as pd\n",
        "from sklearn.model_selection import train_test_split\n",
        "\n",
        "from sklearn import datasets\n",
        "import matplotlib.pyplot as plt"
      ]
    },
    {
      "cell_type": "markdown",
      "source": [
        "##Euclidean distance##"
      ],
      "metadata": {
        "id": "kSQzfNihOyKq"
      }
    },
    {
      "cell_type": "code",
      "source": [
        "def euclidean_distance(x1, x2):\n",
        "  distance = np.sqrt(np.sum((x1-x2)**2))\n",
        "  return distance"
      ],
      "metadata": {
        "id": "tbX_jEMw_afk"
      },
      "execution_count": 23,
      "outputs": []
    },
    {
      "cell_type": "markdown",
      "source": [
        "##k-nearest neighbor algorithm##"
      ],
      "metadata": {
        "id": "_2ZIxbdaPWDg"
      }
    },
    {
      "cell_type": "code",
      "source": [
        "class KNN:\n",
        "  def __init__(self, k=5):\n",
        "    self.k = k\n",
        "\n",
        "  def fit(self, X, y):\n",
        "    self.X_train = X\n",
        "    self.y_train = y\n",
        "\n",
        "  def predict(self, X):\n",
        "    prediction = [self._predict(x)for x in X]\n",
        "    return prediction\n",
        "\n",
        "  def _predict(self, x):\n",
        "    #compute distence\n",
        "    distances = [euclidean_distance(x, X_train)for X_train in self.X_train]\n",
        "    #get K samples\n",
        "    k_indices = np.argsort(distances)[:self.k]\n",
        "    k_nearest_labels = [self.y_train[i] for i in k_indices]\n",
        "    #majorty vote , most common class label\n",
        "    most_comman = Counter(k_nearest_labels).most_common()\n",
        "    return most_comman[0][0]\n",
        "      "
      ],
      "metadata": {
        "id": "1m-QtKG9-rKu"
      },
      "execution_count": 41,
      "outputs": []
    },
    {
      "cell_type": "markdown",
      "source": [
        "##accuracy in Numpy##"
      ],
      "metadata": {
        "id": "VVLimo5JPehY"
      }
    },
    {
      "cell_type": "code",
      "source": [
        "def accuracy(y_pred, y_test):\n",
        "  acc = np.sum(y_pred == y_test) / len(y_test)\n",
        "  return acc"
      ],
      "metadata": {
        "id": "nNwIuKuHGTAV"
      },
      "execution_count": 25,
      "outputs": []
    },
    {
      "cell_type": "markdown",
      "source": [
        "##Data loading & prediction"
      ],
      "metadata": {
        "id": "VUo1XCftPnyb"
      }
    },
    {
      "cell_type": "code",
      "source": [
        "bc = datasets.load_breast_cancer()\n",
        "X, y = bc.data, bc.target\n",
        "X_train, X_test, y_train, y_test = train_test_split(X, y, test_size=0.2, random_state=1234)\n",
        "\n",
        "clf = KNN(k=10)\n",
        "clf.fit(X_train,y_train)\n",
        "y_pred = clf.predict(X_test)\n",
        "pred = clf.predict(X_train)"
      ],
      "metadata": {
        "id": "UaxlcnFyHfk_"
      },
      "execution_count": 39,
      "outputs": []
    },
    {
      "cell_type": "markdown",
      "source": [
        "##Train and Test accuracy"
      ],
      "metadata": {
        "id": "XjCL_gHMQB2o"
      }
    },
    {
      "cell_type": "code",
      "source": [
        "#test acc\n",
        "acc = accuracy(y_pred,y_test)\n",
        "#train acc\n",
        "accu = accuracy(pred,y_train)\n",
        "print(\"acc :\", acc)\n",
        "print(\"accu :\", accu)"
      ],
      "metadata": {
        "id": "PJyIjgZyHwJG",
        "colab": {
          "base_uri": "https://localhost:8080/"
        },
        "outputId": "a0ac2cc9-21d1-4e20-ee84-644f551207bb"
      },
      "execution_count": 40,
      "outputs": [
        {
          "output_type": "stream",
          "name": "stdout",
          "text": [
            "acc : 0.9298245614035088\n",
            "accu : 0.9516483516483516\n"
          ]
        }
      ]
    }
  ]
}